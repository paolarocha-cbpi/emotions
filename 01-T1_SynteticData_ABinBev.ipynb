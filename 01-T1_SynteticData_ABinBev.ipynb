{
 "cells": [
  {
   "cell_type": "markdown",
   "id": "b6fc1ea7-693b-4739-a155-4a55caa2b745",
   "metadata": {
    "tags": []
   },
   "source": [
    "# Syntetic Data generation: Test 1\n",
    "## Escenario S1E001: \n",
    "### Resumen\n",
    "Fuente de datos original resultado de la captación con cámara inteligente de las reacciones a publicidad expuesta en una pantalla en puntos físicos.\n",
    "### Observaciones iniciales\n",
    " - Numero de registros totales: 7000\n",
    " - Numero de tiendas: 500\n",
    " - Máximo número de repetición de anuncios en una hora: 10\n",
    " - Tiempo máximo de minutos en cámara: 15\n",
    " - Tiempo máximo de minutos de AdExpossure: 2\n",
    " - UniqueVisitorId no se repite\n",
    " - Todas las tiendas están en Mexico\n",
    " - Solo se condideraron dos tipos de publicidad (Image/Video)\n",
    " - Solo se consideraron dos clientes (Winkle/ABinBev)\n",
    " - Emociones, edad y sexo pueden tener mucha variabilidad \n",
    " - En la ubicación solo se consideran los estados\n",
    " - Los campos aun no están relacionados\n",
    " - Maximo numero de perosas que miran un anuncio: 10\n",
    "## Resultado: \n",
    "Se mantuvo la estructura de la fuente y se generaron datos sintéticos de manera aleatoria.\n",
    "Se obtuvo el resgistro de 7000 visitas a las diferentes 500 tiendas distribuidas en los diferentes estados del país, en las cuales se mostraba la publicidad de 10 anuncios diferentes. Se registró la edad, sexo y emociones de las personas que estuvieron expuesta a la publicidad.\n",
    "\n",
    "## To Do: \n",
    " - TD01: Take control over the variability in Emotions, Age and sex and do it more like a uncertainty (In this point, I need a better perspective of how this data are obtained)\n",
    " - TD02: Add a range for views looking for UniqueVisitorId at the same store in the same time\n",
    " - TD03: Allow that a UniqueVisitorId can be repeated in a interval of 2 hours\n",
    " - TD04: Ask if other Group/Region should be supported\n",
    " - TD05: Make sure adExposure < VenueDwell\n",
    " - TD06: Take control over the people that are in a store at the same time"
   ]
  },
  {
   "cell_type": "markdown",
   "id": "2f40c708-9770-4d4e-a2fc-8a9d3d34b829",
   "metadata": {},
   "source": [
    "## Data Generation"
   ]
  },
  {
   "cell_type": "markdown",
   "id": "546203d0-bab7-41c7-892a-d3a8096cf272",
   "metadata": {},
   "source": [
    "Para la generación de los datos sintéticos se utilizaron las siguientes librerias:\n",
    "   - Faker: Libreria utilizada para generar datos aleatorio de ubicación y hora\n",
    "   - uuid: Liberia utilizada para generar diferentes id asociadas a UniqueVisitorId\n",
    "   - pandas: Libreria utilizada para crear/manejar dataframes y archivos CSV\n",
    "   - random: Librería utilizada para generar números aleatorios\n",
    "   - datetime: Libreria utilizada para manejar datos datetime"
   ]
  },
  {
   "cell_type": "code",
   "execution_count": 1,
   "id": "2d3c18a6-ed4e-4388-8ce7-4d8904490bb2",
   "metadata": {},
   "outputs": [],
   "source": [
    "from faker import Faker \n",
    "import uuid\n",
    "import pandas as pd\n",
    "import random \n",
    "import datetime"
   ]
  },
  {
   "cell_type": "markdown",
   "id": "87434246-b913-4b0f-b4ea-49b51e45463f",
   "metadata": {},
   "source": [
    "Se agregaron datos descriptivos para identificar el número de prueba, escenario y fecha de la generaciñon de datos sintéticos."
   ]
  },
  {
   "cell_type": "code",
   "execution_count": 2,
   "id": "f40a934b-4783-4c0d-a341-5465adac76b5",
   "metadata": {},
   "outputs": [],
   "source": [
    "n=7000 #Amount of data"
   ]
  },
  {
   "cell_type": "code",
   "execution_count": 3,
   "id": "0b7098b5-d537-4a99-b07d-7d22cbcd430e",
   "metadata": {},
   "outputs": [],
   "source": [
    "#Test data\n",
    "date = [datetime.date.today() for i in range(0,n)]\n",
    "scenery =['Scenery 1' for i in range(0,n)]\n",
    "test= pd.Series(['Test 1' for i in range(0,n)], index=[*range(0,n)])"
   ]
  },
  {
   "cell_type": "markdown",
   "id": "68b9b938-773a-444b-893e-f7c3c1f64c98",
   "metadata": {},
   "source": [
    "Generación de datos sobre el cliente y las máquinas"
   ]
  },
  {
   "cell_type": "code",
   "execution_count": 4,
   "id": "9488ec03-9762-456c-a793-797ec609e0e9",
   "metadata": {},
   "outputs": [],
   "source": [
    "#Machine and Customer Data\n",
    "aux_Source = ['Linux', 'Windows']\n",
    "source= [aux_Source[random.randint(0,len(aux_Source)-1)] for i in range (0,n)]\n",
    "aux_Customer = ['ABinBev', 'Winkle']\n",
    "customer=[aux_Customer[random.randint(0,len(aux_Customer)-1)] for i in range (0,n)]\n",
    "#id\n",
    "aux_Customer_id = ['C1', 'C2']\n",
    "customer_id = [aux_Customer_id[random.randint(0,len(aux_Customer_id)-1)] for i in range (0,n)]\n",
    "aux_EndpointId = ['EP'+str(i) for i in range (0,500)]\n",
    "endpointId = [aux_EndpointId[random.randint(0,len(aux_EndpointId)-1)] for i in range (0,n)]\n",
    "uniqueVisitorId = [uuid.uuid1() for i in range (0,n)]\n",
    "endpointName = endpointId"
   ]
  },
  {
   "cell_type": "markdown",
   "id": "59679936-5287-4441-b7f1-ba64374eba04",
   "metadata": {},
   "source": [
    "Generación de datos referentes a la publicidad"
   ]
  },
  {
   "cell_type": "code",
   "execution_count": 6,
   "id": "4c62feb2-d365-4c8e-ba78-9307763fdd5d",
   "metadata": {},
   "outputs": [],
   "source": [
    "#Adversiting Data\n",
    "aux_AssetName = ['Adversiting'+ str(i) for i in range (0, 10)]\n",
    "assetName = [aux_AssetName[random.randint(0,len(aux_AssetName)-1)] for i in range (0,n)]\n",
    "assetPlayCount = [random.randint(0,10) for i in range (0,n) ] #Entero\n",
    "aux_AssetTypeName=['Image', 'Video']\n",
    "assetTypeName =[aux_AssetTypeName[random.randint(0,len(aux_AssetTypeName)-1)] for i in range (0,n)]"
   ]
  },
  {
   "cell_type": "markdown",
   "id": "07cf47a5-d3e9-44dd-a46b-02765d640403",
   "metadata": {},
   "source": [
    "Generación de datos referentes a la ubicación"
   ]
  },
  {
   "cell_type": "code",
   "execution_count": 7,
   "id": "0150780f-d4f0-4320-b484-01e3bf850b92",
   "metadata": {},
   "outputs": [
    {
     "data": {
      "text/plain": [
       "' TD04 '"
      ]
     },
     "execution_count": 7,
     "metadata": {},
     "output_type": "execute_result"
    }
   ],
   "source": [
    "#Location Data\n",
    "group = ['Mexico' for i in range(0,n)]\n",
    "region = group\n",
    "faker = Faker(locale='es_MX')\n",
    "location = [faker.state() for i in range (0,n)]\n",
    "\"\"\" TD04 \"\"\""
   ]
  },
  {
   "cell_type": "markdown",
   "id": "acfcbd9a-0a1d-4361-99f9-b8e7ae30fc45",
   "metadata": {},
   "source": [
    "Generación de datos de la fecha y hora de los registros, tiempo de captura por la cámara y tiempo de exposición a la publicidad."
   ]
  },
  {
   "cell_type": "code",
   "execution_count": 8,
   "id": "1b014ee4-f839-4d9a-a8eb-f3ba743b5e53",
   "metadata": {},
   "outputs": [
    {
     "data": {
      "text/plain": [
       "' TD03 '"
      ]
     },
     "execution_count": 8,
     "metadata": {},
     "output_type": "execute_result"
    }
   ],
   "source": [
    "#Date and time data\n",
    "\"\"\" TD05 \"\"\"\n",
    "adExposure = [random.triangular(0, 150) for i in range (0,n)] #Float\n",
    "\"\"\" TD06 \"\"\"\n",
    "dateHour = [faker.date_time_this_month() for i in range (0,n)] \n",
    "#Numeros aleatorios\n",
    "venueDwell = [random.triangular(0, 900) for i in range (0,n)]\n",
    "dateLastUpdate =[]\n",
    "for i in range (0,n):\n",
    "    dateLastUpdate.append(dateHour[i]+datetime.timedelta(seconds=venueDwell[i]))\n",
    "    \n",
    "\"\"\" TD02 \"\"\"    \n",
    "\"\"\" TD03 \"\"\""
   ]
  },
  {
   "cell_type": "markdown",
   "id": "112fce2d-69c1-4245-9979-f3f4bc1da0f0",
   "metadata": {},
   "source": [
    "Generación de datos sobre el numero de impresiones y el sexo de cada persona"
   ]
  },
  {
   "cell_type": "code",
   "execution_count": 9,
   "id": "15ea3394-f8be-4f6f-b933-de63c2221835",
   "metadata": {},
   "outputs": [],
   "source": [
    "#Impressions data\n",
    "impressions = [random.randint(0,10) for i in range (0,n)] #Entero\n",
    "impFemale = [random.random() for i in range (0,n)] #Float 0-1\n",
    "impMale = [*(map(lambda x: 1-x, impFemale))] "
   ]
  },
  {
   "cell_type": "code",
   "execution_count": 10,
   "id": "b3154f9a-86f1-4254-afa7-7e18cb1d9309",
   "metadata": {},
   "outputs": [],
   "source": [
    "#Amount of people that look at the screen\n",
    "views = [random.randint(0,10) for i in range (0,n)] #Entero"
   ]
  },
  {
   "cell_type": "markdown",
   "id": "91952e09-9e64-4b0f-8948-28622740d58d",
   "metadata": {},
   "source": [
    "Generación de datos sobre edad y emoción"
   ]
  },
  {
   "cell_type": "code",
   "execution_count": 11,
   "id": "ff8e633c-f502-43ec-8daa-54750481a174",
   "metadata": {},
   "outputs": [],
   "source": [
    "#Age and emotion data\n",
    "\n",
    "\"\"\"Se asigna un 1 o 0 en cada impresión\"\"\"\n",
    "under_18 = []\n",
    "age18 = []\n",
    "age25 = []\n",
    "age35 = []\n",
    "age45 = []\n",
    "age55 = []\n",
    "age65 = []\n",
    "\n",
    "happy = []\n",
    "sad = []\n",
    "anger = []\n",
    "surprise = []\n",
    "neutral = []\n",
    "\n",
    "for j in range (0, n): \n",
    "    \n",
    "    \"\"\" TD01 \"\"\"\n",
    "    \n",
    "    aux_Age = [random.randint(0,1) for i in range(0, 7)]\n",
    "    aux_Emotion = [random.randint(0,1) for i in range(0, 5)] \n",
    "\n",
    "    if sum(aux_Age)>0:\n",
    "        aux_Age = [*(map(lambda x: x / sum(aux_Age), aux_Age))] \n",
    "    else:\n",
    "        aux_Age[random.randint(0, 6)]=1\n",
    "        \n",
    "    if sum(aux_Emotion)>0:\n",
    "        aux_Emotion = [*(map(lambda x: x / sum(aux_Emotion), aux_Emotion))] \n",
    "    else:\n",
    "        aux_Emotion[random.randint(0, 4)]=1\n",
    "        \n",
    "    under_18.append(aux_Age[0])\n",
    "    age18.append(aux_Age[1])\n",
    "    age25.append(aux_Age[2])\n",
    "    age35.append(aux_Age[3])\n",
    "    age45.append(aux_Age[4])\n",
    "    age55.append(aux_Age[5])\n",
    "    age65.append(aux_Age[6])\n",
    "    \n",
    "    happy.append(aux_Emotion[0])\n",
    "    sad.append(aux_Emotion[1])\n",
    "    anger.append(aux_Emotion[2])\n",
    "    surprise.append(aux_Emotion[3])\n",
    "    neutral.append(aux_Emotion[4])"
   ]
  },
  {
   "cell_type": "code",
   "execution_count": 12,
   "id": "3d8970cc-064f-470d-8a5c-252a51822217",
   "metadata": {},
   "outputs": [],
   "source": [
    "#Creation of DF\n",
    "data_dic = {\"CreationDate\": date, \"Scenery\": scenery,\"Test\": test, \"Source\": source, \"Customer\": customer, \"Customer_ID\": customer_id, \"EndpointName\": endpointName, \"EndpointId\": endpointId, \"Group\": group, \"Region\":region, \"Location\": location, \"AssetName\": assetName , \"AssetTypeName\": assetTypeName, \"AssetPlayCount\": assetPlayCount, \"DateHour\": dateHour, \"UniqueVisitorId\": uniqueVisitorId, \"VenueDwell\": venueDwell, \"Impressions\": impressions, \"ImpMale\": impMale, \"ImpFemale\":impFemale, \"Under_18\": under_18, \"Age18\": age18, \"Age25\": age25, \"Age35\": age35, \"Age45\": age45, \"Age55\": age55, \"Age65\": age65, \"Happy\": happy, \"Sad\": sad, \"Anger\": anger, \"Surprise\": surprise, \"Neutral\":neutral, \"Views\": views, \"AdExposure\": adExposure, \"DateLastUpdated\": dateLastUpdate}\n",
    "df=pd.DataFrame(data_dic)"
   ]
  },
  {
   "cell_type": "code",
   "execution_count": 13,
   "id": "6310c376-994e-4d09-a472-9131ffd65354",
   "metadata": {},
   "outputs": [],
   "source": [
    "#Creation of CSV\n",
    "csv_data = df.to_csv(path_or_buf='Winkle_ABinBev_synt.csv', sep=',')"
   ]
  },
  {
   "cell_type": "code",
   "execution_count": 14,
   "id": "6a0b63e8-58df-4e4b-916e-94922107eead",
   "metadata": {},
   "outputs": [
    {
     "name": "stdout",
     "output_type": "stream",
     "text": [
      "      Unnamed: 0 CreationDate    Scenery    Test   Source Customer  \\\n",
      "0              0   2022-09-12  Scenery 1  Test 1    Linux   Winkle   \n",
      "1              1   2022-09-12  Scenery 1  Test 1    Linux  ABinBev   \n",
      "2              2   2022-09-12  Scenery 1  Test 1  Windows  ABinBev   \n",
      "3              3   2022-09-12  Scenery 1  Test 1  Windows   Winkle   \n",
      "4              4   2022-09-12  Scenery 1  Test 1  Windows   Winkle   \n",
      "...          ...          ...        ...     ...      ...      ...   \n",
      "6995        6995   2022-09-12  Scenery 1  Test 1  Windows  ABinBev   \n",
      "6996        6996   2022-09-12  Scenery 1  Test 1  Windows   Winkle   \n",
      "6997        6997   2022-09-12  Scenery 1  Test 1    Linux  ABinBev   \n",
      "6998        6998   2022-09-12  Scenery 1  Test 1  Windows   Winkle   \n",
      "6999        6999   2022-09-12  Scenery 1  Test 1    Linux   Winkle   \n",
      "\n",
      "     Customer_ID EndpointName EndpointId   Group  ...     Age55     Age65  \\\n",
      "0             C2        EP277      EP277  Mexico  ...  0.500000  0.000000   \n",
      "1             C1         EP88       EP88  Mexico  ...  0.000000  0.000000   \n",
      "2             C1        EP260      EP260  Mexico  ...  0.250000  0.000000   \n",
      "3             C2        EP443      EP443  Mexico  ...  0.200000  0.000000   \n",
      "4             C2         EP41       EP41  Mexico  ...  0.000000  0.000000   \n",
      "...          ...          ...        ...     ...  ...       ...       ...   \n",
      "6995          C1          EP1        EP1  Mexico  ...  0.166667  0.166667   \n",
      "6996          C1        EP211      EP211  Mexico  ...  0.166667  0.000000   \n",
      "6997          C2        EP366      EP366  Mexico  ...  0.333333  0.333333   \n",
      "6998          C2        EP208      EP208  Mexico  ...  0.200000  0.000000   \n",
      "6999          C2        EP323      EP323  Mexico  ...  0.000000  0.166667   \n",
      "\n",
      "         Happy       Sad     Anger  Surprise   Neutral  Views  AdExposure  \\\n",
      "0     0.000000  0.500000  0.000000  0.000000  0.500000      8   83.077767   \n",
      "1     0.250000  0.250000  0.250000  0.000000  0.250000      2   84.783319   \n",
      "2     0.333333  0.333333  0.000000  0.000000  0.333333      0   57.159071   \n",
      "3     1.000000  0.000000  0.000000  0.000000  0.000000      7   93.199676   \n",
      "4     0.000000  0.000000  1.000000  0.000000  0.000000      8   68.570070   \n",
      "...        ...       ...       ...       ...       ...    ...         ...   \n",
      "6995  0.000000  0.000000  0.500000  0.500000  0.000000      4  127.572243   \n",
      "6996  0.333333  0.000000  0.000000  0.333333  0.333333      8   83.052123   \n",
      "6997  0.000000  0.000000  0.333333  0.333333  0.333333      9   58.530133   \n",
      "6998  0.000000  0.333333  0.000000  0.333333  0.333333      0  103.056550   \n",
      "6999  0.000000  0.000000  0.000000  0.000000  1.000000      6   58.721593   \n",
      "\n",
      "                 DateLastUpdated  \n",
      "0     2022-09-02 01:05:08.896959  \n",
      "1     2022-09-09 07:02:47.859630  \n",
      "2     2022-09-11 11:15:17.636621  \n",
      "3     2022-09-04 15:12:03.033092  \n",
      "4     2022-09-03 21:21:50.937586  \n",
      "...                          ...  \n",
      "6995  2022-09-11 15:18:06.359338  \n",
      "6996  2022-09-07 04:53:20.736263  \n",
      "6997  2022-09-06 04:40:14.349941  \n",
      "6998  2022-09-09 21:48:08.726281  \n",
      "6999  2022-09-11 02:03:56.921519  \n",
      "\n",
      "[7000 rows x 36 columns]\n"
     ]
    }
   ],
   "source": [
    "#Making sure the csv is been read correctly\n",
    "df1=pd.read_csv('Winkle_ABinBev_synt.csv', sep=',')\n",
    "print(df1)"
   ]
  },
  {
   "cell_type": "markdown",
   "id": "5ccfade1-9c52-40fe-89db-46fbee1d97ef",
   "metadata": {},
   "source": [
    "## Comentarios finales\n",
    "En este trabajo se generaron los registros de manera aleatoria lo cual tiene la desventaja que no hay una congruencia entre algunos campos como se esperaría.\n",
    "Hay que trabajar la parte de que haya una congruencia con los datos sintéticos y los registros que se obtendrían del fenómeno real. "
   ]
  },
  {
   "cell_type": "code",
   "execution_count": null,
   "id": "75e8dbad-8cdc-4f60-9ccc-b4f2bc5976c9",
   "metadata": {},
   "outputs": [],
   "source": []
  }
 ],
 "metadata": {
  "kernelspec": {
   "display_name": "Python 3 (ipykernel)",
   "language": "python",
   "name": "python3"
  },
  "language_info": {
   "codemirror_mode": {
    "name": "ipython",
    "version": 3
   },
   "file_extension": ".py",
   "mimetype": "text/x-python",
   "name": "python",
   "nbconvert_exporter": "python",
   "pygments_lexer": "ipython3",
   "version": "3.9.13"
  }
 },
 "nbformat": 4,
 "nbformat_minor": 5
}
